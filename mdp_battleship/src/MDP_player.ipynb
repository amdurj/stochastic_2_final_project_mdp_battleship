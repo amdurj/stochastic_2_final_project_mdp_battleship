{
 "cells": [
  {
   "cell_type": "markdown",
   "metadata": {},
   "source": [
    "# Purpose:\n",
    "Script used to pull in R MDP toolbox and use MDP as a battleship solver program. This first script will be act as the solving player (the machine). "
   ]
  },
  {
   "cell_type": "code",
   "execution_count": 1,
   "metadata": {},
   "outputs": [],
   "source": [
    "# Libraries\n",
    "import pandas as pd\n",
    "import numpy as np\n",
    "import matplotlib.pyplot as plt\n",
    "import seaborn as sns\n",
    "\n",
    "# These will let us use R packages:\n",
    "from rpy2.robjects.packages import importr\n",
    "from rpy2.robjects import pandas2ri\n",
    "\n",
    "# Convert pandas.DataFrames to R dataframes automatically.\n",
    "pandas2ri.activate()\n",
    "\n",
    "# R package\n",
    "MDPtoolbox = importr(\"MDPtoolbox\")"
   ]
  },
  {
   "cell_type": "code",
   "execution_count": 2,
   "metadata": {},
   "outputs": [],
   "source": [
    "# Set plotting theme:\n",
    "primary = \"#404040\"\n",
    "accent = \"#24B8A0\"\n",
    "pal = sns.color_palette([primary, accent])\n",
    "style = {\n",
    "    \"axes.edgecolor\": primary,\n",
    "    \"axes.labelcolor\": primary,\n",
    "    \"text.color\": primary,\n",
    "    \"xtick.color\": primary,\n",
    "    \"ytick.color\": primary,\n",
    "}\n",
    "\n",
    "sns.set_palette(pal)\n",
    "sns.set_context(\"talk\")\n",
    "sns.set_style(\"ticks\", style)"
   ]
  },
  {
   "cell_type": "code",
   "execution_count": null,
   "metadata": {},
   "outputs": [],
   "source": []
  }
 ],
 "metadata": {
  "kernelspec": {
   "display_name": "Python 3",
   "language": "python",
   "name": "python3"
  },
  "language_info": {
   "codemirror_mode": {
    "name": "ipython",
    "version": 3
   },
   "file_extension": ".py",
   "mimetype": "text/x-python",
   "name": "python",
   "nbconvert_exporter": "python",
   "pygments_lexer": "ipython3",
   "version": "3.7.3"
  }
 },
 "nbformat": 4,
 "nbformat_minor": 4
}
